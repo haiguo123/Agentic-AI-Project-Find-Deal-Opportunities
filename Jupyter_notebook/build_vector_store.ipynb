{
 "cells": [
  {
   "cell_type": "markdown",
   "id": "046fd8f8-ad14-4c7f-b759-fec52f5b5306",
   "metadata": {},
   "source": [
    "# The Price is Right\n",
    "\n",
    "Today we build a more complex solution for estimating prices of goods.\n",
    "\n",
    "1. This notebook: create a RAG database with our 400,000 training data\n",
    "2. Day 2.1 notebook: visualize in 2D\n",
    "3. Day 2.2 notebook: visualize in 3D\n",
    "4. Day 2.3 notebook: build and test a RAG pipeline with GPT-4o-mini\n",
    "5. Day 2.4 notebook: (a) bring back our Random Forest pricer (b) Create a Ensemble pricer that allows contributions from all the pricers\n",
    "\n",
    "Phew! That's a lot to get through in one day!\n",
    "\n",
    "## PLEASE NOTE:\n",
    "\n",
    "We already have a very powerful product estimator with our proprietary, fine-tuned LLM. Most people would be very satisfied with that! The main reason we're adding these extra steps is to deepen your expertise with RAG and with Agentic workflows.\n"
   ]
  },
  {
   "cell_type": "code",
   "execution_count": 1,
   "id": "993a2a24-1a58-42be-8034-6d116fb8d786",
   "metadata": {},
   "outputs": [],
   "source": [
    "# imports\n",
    "\n",
    "import os\n",
    "import re\n",
    "import math\n",
    "import json\n",
    "from tqdm import tqdm\n",
    "import random\n",
    "from dotenv import load_dotenv\n",
    "from huggingface_hub import login\n",
    "import numpy as np\n",
    "import pickle\n",
    "from sentence_transformers import SentenceTransformer\n",
    "from datasets import load_dataset\n",
    "import chromadb\n",
    "from sklearn.manifold import TSNE\n",
    "import plotly.graph_objects as go"
   ]
  },
  {
   "cell_type": "code",
   "execution_count": 2,
   "id": "2359ccc0-dbf2-4b1e-9473-e472b32f548b",
   "metadata": {},
   "outputs": [],
   "source": [
    "# environment\n",
    "\n",
    "load_dotenv(override=True)\n",
    "os.environ['OPENAI_API_KEY'] = os.getenv('OPENAI_API_KEY', 'your-key-if-not-using-env')\n",
    "os.environ['HF_TOKEN'] = os.getenv('HF_TOKEN', 'your-key-if-not-using-env')\n",
    "DB = \"products_vectorstore\""
   ]
  },
  {
   "cell_type": "code",
   "execution_count": 3,
   "id": "645167e6-cf0d-42d2-949f-1089a25a2841",
   "metadata": {},
   "outputs": [
    {
     "name": "stderr",
     "output_type": "stream",
     "text": [
      "Note: Environment variable`HF_TOKEN` is set and is the current active token independently from the token you've just configured.\n"
     ]
    }
   ],
   "source": [
    "# Log in to HuggingFace\n",
    "\n",
    "hf_token = os.environ['HF_TOKEN']\n",
    "login(hf_token, add_to_git_credential=True)"
   ]
  },
  {
   "cell_type": "code",
   "execution_count": 4,
   "id": "8491f550-df4a-4c8f-a260-a7a419e8efb6",
   "metadata": {},
   "outputs": [],
   "source": [
    "# Another import after Logging in to Hugging Face - thank you Trung N.!\n",
    "\n",
    "from items import Item"
   ]
  },
  {
   "cell_type": "markdown",
   "id": "3d4995a4-f67f-4871-87df-8c6439b06366",
   "metadata": {},
   "source": [
    "## Back to the pkl files\n",
    "\n",
    "Much as we enjoyed data curating in week 6, we probably don't want to go through that whole process again!\n",
    "\n",
    "Let's reuse the pkl files we created then. Either copy the files `train.pkl` and `test.pkl` from the Week 6 folder into this Week 8 folder, or you can also download them from here:\n",
    "\n",
    "https://drive.google.com/drive/folders/1f_IZGybvs9o0J5sb3xmtTEQB3BXllzrW?usp=drive_link"
   ]
  },
  {
   "cell_type": "code",
   "execution_count": 6,
   "id": "688bd995-ec3e-43cd-8179-7fe14b275877",
   "metadata": {},
   "outputs": [],
   "source": [
    "# With train.pkl in this folder, you can run this:\n",
    "\n",
    "with open('train.pkl', 'rb') as file:\n",
    "    train = pickle.load(file)"
   ]
  },
  {
   "cell_type": "code",
   "execution_count": 7,
   "id": "2817eaf5-4302-4a18-9148-d1062e3b3dbb",
   "metadata": {},
   "outputs": [
    {
     "data": {
      "text/plain": [
       "'How much does this cost to the nearest dollar?\\n\\nDelphi FG0166 Fuel Pump Module\\nDelphi brings 80 years of OE Heritage into each Delphi pump, ensuring quality and fitment for each Delphi part. Part is validated, tested and matched to the right vehicle application Delphi brings 80 years of OE Heritage into each Delphi assembly, ensuring quality and fitment for each Delphi part Always be sure to check and clean fuel tank to avoid unnecessary returns Rigorous OE-testing ensures the pump can withstand extreme temperatures Brand Delphi, Fit Type Vehicle Specific Fit, Dimensions LxWxH 19.7 x 7.7 x 5.1 inches, Weight 2.2 Pounds, Auto Part Position Unknown, Operation Mode Mechanical, Manufacturer Delphi, Model FUEL PUMP, Dimensions 19.7\\n\\nPrice is $227.00'"
      ]
     },
     "execution_count": 7,
     "metadata": {},
     "output_type": "execute_result"
    }
   ],
   "source": [
    "train[0].prompt"
   ]
  },
  {
   "cell_type": "markdown",
   "id": "9ae1ba16-7e80-4096-ac88-64ef8edcc80c",
   "metadata": {},
   "source": [
    "# Now create a Chroma Datastore\n",
    "\n",
    "In Week 5, we created a Chroma datastore with 123 documents representing chunks of objects from our fictional company Insurellm.\n",
    "\n",
    "Now we will create a Chroma datastore with 400,000 products from our training dataset! It's getting real!\n",
    "\n",
    "Note that we won't be using LangChain, but the API is very straightforward and consistent with before.\n",
    "\n",
    "Special note: if Chroma crashes and you're a Windows user, you should try rolling back to an earlier version of the Chroma library with:  \n",
    "`!pip install chromadb==0.5.0`  \n",
    "With many thanks to student Kelly Z. for finding this out and pointing to the GitHub issue [here](https://github.com/chroma-core/chroma/issues/2513). \n",
    "But try first without reverting Chroma."
   ]
  },
  {
   "cell_type": "code",
   "execution_count": 8,
   "id": "f4aab95e-d719-4476-b6e7-e248120df25a",
   "metadata": {},
   "outputs": [],
   "source": [
    "client = chromadb.PersistentClient(path=DB)"
   ]
  },
  {
   "cell_type": "code",
   "execution_count": null,
   "id": "5f95dafd-ab80-464e-ba8a-dec7a2424780",
   "metadata": {},
   "outputs": [],
   "source": [
    "# Check if the collection exists and delete it if it does\n",
    "collection_name = \"products\"\n",
    "\n",
    "# For old versions of Chroma, use this line instead of the subsequent one\n",
    "# existing_collection_names = [collection.name for collection in client.list_collections()]\n",
    "existing_collection_names = client.list_collections()\n",
    "\n",
    "if collection_name in existing_collection_names:\n",
    "    client.delete_collection(collection_name)\n",
    "    print(f\"Deleted existing collection: {collection_name}\")\n",
    "\n",
    "collection = client.create_collection(collection_name)"
   ]
  },
  {
   "cell_type": "markdown",
   "id": "d392ed28-203d-4e73-be87-ac1390bdf722",
   "metadata": {},
   "source": [
    "# Introducing the SentenceTransfomer\n",
    "\n",
    "The all-MiniLM is a very useful model from HuggingFace that maps sentences & paragraphs to a 384 dimensional dense vector space and is ideal for tasks like semantic search.\n",
    "\n",
    "https://huggingface.co/sentence-transformers/all-MiniLM-L6-v2\n",
    "\n",
    "It can run pretty quickly locally.\n",
    "\n",
    "Last time we used OpenAI embeddings to produce vector embeddings. Benefits compared to OpenAI embeddings:\n",
    "1. It's free and fast!\n",
    "3. We can run it locally, so the data never leaves our box - might be useful if you're building a personal RAG\n"
   ]
  },
  {
   "cell_type": "code",
   "execution_count": 11,
   "id": "a87db200-d19d-44bf-acbd-15c45c70f5c9",
   "metadata": {},
   "outputs": [
    {
     "data": {
      "application/vnd.jupyter.widget-view+json": {
       "model_id": "cd9b39f5ab7c466486984ba4868d54f5",
       "version_major": 2,
       "version_minor": 0
      },
      "text/plain": [
       "special_tokens_map.json:   0%|          | 0.00/112 [00:00<?, ?B/s]"
      ]
     },
     "metadata": {},
     "output_type": "display_data"
    },
    {
     "data": {
      "application/vnd.jupyter.widget-view+json": {
       "model_id": "f6f3240adf5d46f68197de195cbc01fd",
       "version_major": 2,
       "version_minor": 0
      },
      "text/plain": [
       "config.json:   0%|          | 0.00/190 [00:00<?, ?B/s]"
      ]
     },
     "metadata": {},
     "output_type": "display_data"
    }
   ],
   "source": [
    "from sentence_transformers import SentenceTransformer\n",
    "model = SentenceTransformer('all-MiniLM-L6-v2')  # 允许联网从 HuggingFace 下载\n"
   ]
  },
  {
   "cell_type": "code",
   "execution_count": 16,
   "id": "9b23a025-4c35-4d3a-96ad-b956cad37b0a",
   "metadata": {},
   "outputs": [
    {
     "data": {
      "text/plain": [
       "array([-9.04761925e-02,  4.04396132e-02,  2.39056572e-02,  5.89479953e-02,\n",
       "       -2.28823386e-02, -4.72201072e-02,  4.50475514e-02,  1.57863349e-02,\n",
       "       -4.81995493e-02, -3.77941206e-02, -1.90776531e-02,  2.13088430e-02,\n",
       "       -4.68305126e-03, -4.33081537e-02,  5.99147864e-02,  5.91033623e-02,\n",
       "       -2.80367490e-02, -5.92183433e-02, -1.24403104e-01, -3.56000178e-02,\n",
       "       -6.08058134e-03,  3.24291028e-02, -3.78007405e-02,  2.47109868e-02,\n",
       "       -4.27243076e-02, -4.24539112e-02,  4.59356718e-02,  9.86255482e-02,\n",
       "       -4.99980114e-02, -3.52358632e-02,  7.08397701e-02,  3.31632085e-02,\n",
       "        2.65883636e-02,  1.73202774e-04,  3.88165796e-03,  3.04672439e-02,\n",
       "       -7.82026127e-02, -1.20379560e-01,  1.80415157e-02,  2.28290595e-02,\n",
       "       -1.77502865e-03, -2.34498531e-02,  3.05810804e-03,  2.43557245e-02,\n",
       "        4.41539697e-02, -4.01097238e-02,  2.01923642e-02,  1.08881490e-02,\n",
       "        2.87315138e-02,  1.23677244e-02, -9.13190544e-02, -6.81244284e-02,\n",
       "        6.19149860e-03, -1.25605306e-02,  9.28249285e-02,  2.79071275e-02,\n",
       "       -3.12197674e-02, -2.52352189e-02,  7.84362108e-02, -7.33027086e-02,\n",
       "       -6.69823214e-02,  1.39002735e-02, -1.42814472e-01,  8.77207983e-03,\n",
       "        2.07010359e-02,  9.08180737e-05, -5.91358356e-02, -6.52026683e-02,\n",
       "       -3.80247273e-02, -6.19724505e-02, -2.50724191e-03, -4.24508145e-03,\n",
       "       -4.13620248e-02, -4.95713055e-02,  2.24600919e-02, -3.56281251e-02,\n",
       "        4.03861888e-02,  4.88409735e-02,  5.20195812e-02,  3.16421427e-02,\n",
       "        3.02730966e-02, -3.80800031e-02, -1.65185351e-02, -6.83410279e-03,\n",
       "       -8.96494184e-03, -3.80861275e-02,  2.37353202e-02, -8.56118090e-03,\n",
       "       -5.12796193e-02,  1.02583757e-02, -1.06715277e-01,  5.38775958e-02,\n",
       "        3.03737894e-02, -3.54465879e-02, -7.69298747e-02, -6.11885600e-02,\n",
       "        7.78369308e-02,  1.08471839e-03, -1.23568349e-01,  2.79173702e-01,\n",
       "        4.79933210e-02,  5.21415062e-02,  4.21877131e-02,  1.02176882e-01,\n",
       "       -2.11792644e-02,  5.31467237e-02, -5.25943637e-02,  7.74884969e-02,\n",
       "       -5.98227093e-03,  2.23340672e-02,  2.56445762e-02, -1.77129381e-03,\n",
       "       -2.79253479e-02, -1.91524886e-02,  5.49053289e-02,  7.07537457e-02,\n",
       "       -3.37207364e-03,  7.49425869e-03,  2.57696044e-02, -7.10281879e-02,\n",
       "       -2.47852784e-02, -5.38526848e-02,  3.37568931e-02, -4.50824760e-02,\n",
       "       -1.98343620e-02, -2.40075942e-02,  3.07831261e-03, -4.39805040e-33,\n",
       "        7.13740960e-02, -2.46291701e-02,  4.34765629e-02,  8.48252550e-02,\n",
       "       -4.63567302e-02, -3.41023579e-02, -2.29421277e-02, -4.99800928e-02,\n",
       "        2.06041406e-03,  5.18273748e-03,  8.05831142e-03,  5.91131160e-03,\n",
       "       -4.03364450e-02, -2.34228955e-03, -2.57337317e-02,  3.13820019e-02,\n",
       "        4.91706915e-02,  5.95756024e-02,  3.62814926e-02,  3.59637439e-02,\n",
       "       -7.95032904e-02, -3.18895467e-02,  2.03540195e-02,  5.40887341e-02,\n",
       "        3.40220816e-02, -2.66800374e-02,  5.13580535e-03, -1.37623325e-01,\n",
       "        5.35682179e-02,  6.24607988e-02,  4.66554537e-02,  8.25162604e-03,\n",
       "       -1.12274801e-03,  1.58642326e-02, -1.48686450e-02, -1.06545212e-02,\n",
       "        1.39251854e-02, -5.11116125e-02, -5.11570312e-02,  1.81104485e-02,\n",
       "       -2.60318294e-02,  4.10491899e-02,  6.18397258e-02, -4.09641266e-02,\n",
       "        2.03002505e-02,  4.35215868e-02,  1.52085340e-02,  2.21399590e-02,\n",
       "        5.85429231e-03,  3.38418670e-02, -5.83183542e-02,  4.04238282e-03,\n",
       "       -1.38970762e-01,  4.21360787e-03, -5.61998086e-03, -4.35497053e-02,\n",
       "       -5.90709411e-03, -7.45447725e-02,  8.35962072e-02,  4.02504280e-02,\n",
       "        3.14086676e-02,  7.68126026e-02, -2.74488963e-02,  1.83432605e-02,\n",
       "       -1.53332189e-01, -3.48913111e-02,  4.94039766e-02, -3.46934497e-02,\n",
       "        1.14418164e-01, -2.06293967e-02, -4.37950641e-02, -1.24855973e-02,\n",
       "        7.63985189e-03,  4.81630191e-02, -3.52325477e-02,  3.67844291e-02,\n",
       "        6.14347197e-02,  1.70742888e-02,  1.93932988e-02, -1.52372932e-02,\n",
       "       -4.23127180e-03,  4.59324941e-02, -8.32644757e-03,  1.58503894e-02,\n",
       "        5.95139973e-02, -9.18050297e-03, -1.49881570e-02, -6.76252618e-02,\n",
       "       -7.32812881e-02, -3.96396108e-02, -7.59297833e-02,  2.27835048e-02,\n",
       "        8.00923705e-02, -2.19015628e-02,  1.66906733e-02,  3.85790891e-33,\n",
       "        9.64369550e-02,  6.16989657e-02, -5.79452030e-02, -1.41536361e-02,\n",
       "       -1.89404059e-02, -1.41951079e-02, -2.27922620e-03,  8.97948891e-02,\n",
       "       -8.37799907e-02, -2.26818956e-02,  6.83508292e-02, -3.02901510e-02,\n",
       "        6.81150034e-02,  1.75223723e-02,  4.47526984e-02,  2.56442502e-02,\n",
       "        9.22513828e-02,  4.75600660e-02, -7.28711933e-02,  4.11396706e-03,\n",
       "       -3.27286050e-02, -3.42148393e-02, -9.29743275e-02, -6.22672290e-02,\n",
       "       -7.87801109e-03,  5.04697999e-03,  1.51909636e-02,  6.85869306e-02,\n",
       "       -5.93003780e-02, -2.59446707e-02,  7.01025203e-02, -9.64848883e-03,\n",
       "        1.14026060e-02,  5.20744883e-02,  1.79106952e-03,  1.04113445e-01,\n",
       "        1.21683516e-02, -7.34237954e-02,  3.34012620e-02, -9.78091210e-02,\n",
       "       -4.58964631e-02,  2.78539024e-02, -1.98339485e-02,  9.23915431e-02,\n",
       "       -1.23828687e-02, -3.98117751e-02,  5.08524943e-03,  4.14595976e-02,\n",
       "       -8.42346027e-02,  1.00746313e-02, -8.32034722e-02, -2.83304490e-02,\n",
       "        4.24229167e-02,  4.08154260e-03, -4.56181616e-02,  5.45456484e-02,\n",
       "        1.30895032e-02,  5.93257211e-02,  3.16439308e-02,  1.33297909e-02,\n",
       "        1.34293027e-02,  5.42032830e-02,  8.32041539e-03,  8.84347036e-02,\n",
       "        2.47975867e-02,  3.48344818e-02, -1.57303158e-02, -9.23915952e-03,\n",
       "       -3.04033644e-02, -5.37001379e-02,  4.26000804e-02, -9.55903810e-03,\n",
       "        3.53703573e-02,  2.62070820e-02, -1.59973502e-02, -2.27996949e-02,\n",
       "        1.13233794e-02,  3.48057225e-02, -1.15094648e-04,  6.14551269e-02,\n",
       "        2.60663759e-02, -3.48999794e-03, -2.68242769e-02,  4.36767191e-02,\n",
       "        1.96861848e-02,  1.42173879e-02,  4.13493775e-02,  3.12109962e-02,\n",
       "       -2.94173649e-03, -5.59458435e-02,  7.75544951e-03,  7.96629712e-02,\n",
       "        7.01818764e-02, -5.30648641e-02,  8.65290686e-03, -1.44800030e-08,\n",
       "        2.99871154e-02, -3.74178961e-02,  6.35030493e-02,  9.18340087e-02,\n",
       "        5.34940474e-02,  5.86865880e-02, -2.92608440e-02, -1.45441890e-02,\n",
       "       -3.18563432e-02,  4.17881720e-02,  5.59053048e-02,  3.48980762e-02,\n",
       "       -3.88737097e-02, -5.25139868e-02,  5.35427965e-02, -2.30163168e-02,\n",
       "       -2.96264868e-02,  4.33764532e-02, -5.71561530e-02, -1.37616098e-01,\n",
       "        3.65539119e-02,  2.52274796e-02,  2.29082722e-03, -3.21154855e-02,\n",
       "        7.02533079e-03, -6.36367276e-02, -3.57009545e-02, -1.72425993e-03,\n",
       "        1.16312131e-02, -6.13933504e-02, -1.34475473e-02,  1.83892548e-01,\n",
       "       -7.69878039e-03, -1.57938953e-02,  2.97546629e-02, -2.22598929e-02,\n",
       "       -9.80210956e-03, -1.19002024e-02,  6.23303577e-02, -2.51287241e-02,\n",
       "       -4.21327725e-02, -5.61932810e-02, -4.12699543e-02, -3.24219242e-02,\n",
       "       -1.57817397e-02,  4.64272387e-02,  1.15918380e-03, -5.41495048e-02,\n",
       "        3.64914387e-02, -6.65330142e-02, -4.34341654e-02, -2.28455625e-02,\n",
       "        5.47489487e-02,  7.31126294e-02,  3.00163850e-02,  6.17795885e-02,\n",
       "        1.61923077e-02,  1.22879734e-02, -5.36390906e-03, -8.56417883e-03,\n",
       "        1.50863826e-01,  6.81503862e-02,  1.78655945e-02,  1.12762274e-02],\n",
       "      dtype=float32)"
      ]
     },
     "execution_count": 16,
     "metadata": {},
     "output_type": "execute_result"
    }
   ],
   "source": [
    "# Pass in a list of texts, get back a numpy array of vectors\n",
    "\n",
    "vector = model.encode([\"hi\"])[0]\n",
    "vector"
   ]
  },
  {
   "cell_type": "code",
   "execution_count": 17,
   "id": "8adde63f-e732-4f7c-bba9-f8b2a469f14e",
   "metadata": {},
   "outputs": [],
   "source": [
    "# Quick sidebar - extra to the videos - a function to compare vectors\n",
    "\n",
    "import numpy as np\n",
    "def cosine_similarity(a, b):\n",
    "    return np.dot(a, b) / (np.linalg.norm(a) * np.linalg.norm(b))\n",
    "\n",
    "def how_similar(text1, text2):\n",
    "    vector1, vector2 = model.encode([text1, text2])\n",
    "    similarity = cosine_similarity(vector1, vector2)\n",
    "    print(f\"Similarity between {text1} and {text2} is {similarity*100:.1f}%\")"
   ]
  },
  {
   "cell_type": "code",
   "execution_count": 18,
   "id": "2f9c8d19-6993-42e7-afd6-4c61ffc19419",
   "metadata": {
    "scrolled": true
   },
   "outputs": [
    {
     "name": "stdout",
     "output_type": "stream",
     "text": [
      "Similarity between Java and C++ is 50.7%\n",
      "Similarity between Java and mug is 25.8%\n",
      "Similarity between Cup of Java and mug is 49.3%\n"
     ]
    }
   ],
   "source": [
    "# And let's see how adding a few words to the context can change things up!\n",
    "\n",
    "how_similar(\"Java\", \"C++\")\n",
    "how_similar(\"Java\", \"mug\")\n",
    "how_similar(\"Cup of Java\", \"mug\")"
   ]
  },
  {
   "cell_type": "code",
   "execution_count": 23,
   "id": "38de1bf8-c9b5-45b4-9f4b-86af93b3f80d",
   "metadata": {},
   "outputs": [],
   "source": [
    "# OK back to the main story - let's make something we can vectorize\n",
    "\n",
    "def description(item):\n",
    "    #只保留商品的描述\n",
    "    text = item.prompt.replace(\"How much does this cost to the nearest dollar?\\n\\n\", \"\")\n",
    "    return text.split(\"\\n\\nPrice is $\")[0]"
   ]
  },
  {
   "cell_type": "code",
   "execution_count": 24,
   "id": "8c1205bd-4692-44ef-8ea4-69f255354537",
   "metadata": {},
   "outputs": [
    {
     "data": {
      "text/plain": [
       "'Delphi FG0166 Fuel Pump Module\\nDelphi brings 80 years of OE Heritage into each Delphi pump, ensuring quality and fitment for each Delphi part. Part is validated, tested and matched to the right vehicle application Delphi brings 80 years of OE Heritage into each Delphi assembly, ensuring quality and fitment for each Delphi part Always be sure to check and clean fuel tank to avoid unnecessary returns Rigorous OE-testing ensures the pump can withstand extreme temperatures Brand Delphi, Fit Type Vehicle Specific Fit, Dimensions LxWxH 19.7 x 7.7 x 5.1 inches, Weight 2.2 Pounds, Auto Part Position Unknown, Operation Mode Mechanical, Manufacturer Delphi, Model FUEL PUMP, Dimensions 19.7'"
      ]
     },
     "execution_count": 24,
     "metadata": {},
     "output_type": "execute_result"
    }
   ],
   "source": [
    "description(train[0])"
   ]
  },
  {
   "cell_type": "markdown",
   "id": "16b4ef1f-c696-4a01-b011-00fbccbc1a56",
   "metadata": {},
   "source": [
    "## Now we populate our RAG datastore\n",
    "\n",
    "The next cell populates the 400,000 items in Chroma.\n",
    "\n",
    "Feel free to reduce the number of documents if this takes too long! You can change to:  \n",
    "`NUMBER_OF_DOCUMENTS = 20000`  \n",
    "And that's plenty for a perfectly good RAG pipeline.\n",
    "\n",
    "Just note that if you interrupt the below cell while it's running, you might need to clear out the Chroma datastore (by rerunning the earlier cell that deletes the collection), before you run it again. Otherwise it will complain that there are existing documents with the same ID."
   ]
  },
  {
   "cell_type": "code",
   "execution_count": 28,
   "id": "8c79e2fe-1f50-4ebf-9a93-34f3088f2996",
   "metadata": {},
   "outputs": [
    {
     "name": "stderr",
     "output_type": "stream",
     "text": [
      "100%|██████████████████████████████████████████████████████████████████████████████████| 20/20 [00:40<00:00,  2.02s/it]\n"
     ]
    }
   ],
   "source": [
    "#NUMBER_OF_DOCUMENTS = len(train)\n",
    "\n",
    "# Uncomment if you'd rather not wait for the full 400,000\n",
    "NUMBER_OF_DOCUMENTS = 20000\n",
    "\n",
    "for i in tqdm(range(0, NUMBER_OF_DOCUMENTS, 1000)):\n",
    "    documents = [description(item) for item in train[i: i+1000]]\n",
    "    vectors = model.encode(documents).astype(float).tolist()\n",
    "    metadatas = [{\"category\": item.category, \"price\": item.price} for item in train[i: i+1000]]\n",
    "    ids = [f\"doc_{j}\" for j in range(i, i+len(documents))]\n",
    "    collection.add(\n",
    "        ids=ids,\n",
    "        documents=documents,\n",
    "        embeddings=vectors,\n",
    "        metadatas=metadatas\n",
    "    )"
   ]
  }
 ],
 "metadata": {
  "kernelspec": {
   "display_name": "Python 3 (ipykernel)",
   "language": "python",
   "name": "python3"
  },
  "language_info": {
   "codemirror_mode": {
    "name": "ipython",
    "version": 3
   },
   "file_extension": ".py",
   "mimetype": "text/x-python",
   "name": "python",
   "nbconvert_exporter": "python",
   "pygments_lexer": "ipython3",
   "version": "3.11.13"
  }
 },
 "nbformat": 4,
 "nbformat_minor": 5
}
